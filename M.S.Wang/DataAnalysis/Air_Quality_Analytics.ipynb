{
 "cells": [
  {
   "cell_type": "markdown",
   "metadata": {},
   "source": [
    "# Define imports, etc :\n"
   ]
  },
  {
   "cell_type": "code",
   "execution_count": null,
   "metadata": {},
   "outputs": [
    {
     "name": "stdout",
     "output_type": "stream",
     "text": [
      "0xf8f005f0270d_Wei_s Apartment.json\n",
      "Processing 1/12...\n",
      "\n",
      "Processed & Saved in 56 seconds\n",
      "\n",
      "0xf8f005f066a3_Atelier Ten.json\n",
      "Processing 2/12...\n",
      "Atelier Ten\n"
     ]
    }
   ],
   "source": [
    "\n",
    "import json\n",
    "import ijson\n",
    "import pycurl\n",
    "import time\n",
    "import numpy as np\n",
    "import os\n",
    "\n",
    "#from pyeemd import ceemdan\n",
    "#from pyeemd.utils import plot_imfs\n",
    "\n",
    "try:\n",
    "    from io import BytesIO\n",
    "except ImportError:\n",
    "    from StringIO import StringIO as BytesIO\n",
    "\n",
    "MASTER_URL ='http://Node-LB-618209181.us-east-1.elb.amazonaws.com/'\n",
    "DEVLIST_URL = '1/Devices'\n",
    "SRC_PATH = './JSON_DIR/'\n",
    "DES_PATH = './DATA_DIR/'\n",
    "TODAY_ONLY = 0\n",
    "TAR_PTS = 1000\n",
    "\n",
    "if not os.path.exists(DES_PATH):\n",
    "\ttry:\n",
    "    \t        os.makedirs(DES_PATH)\n",
    "\texcept:\n",
    "\t\tpass\n",
    "\n",
    "def getBody(url):\n",
    "        buffer = BytesIO()\n",
    "        c = pycurl.Curl()\n",
    "        c.setopt(c.URL, MASTER_URL+url)\n",
    "        c.setopt(c.WRITEDATA, buffer)\n",
    "        c.perform()\n",
    "        x = buffer.getvalue()\n",
    "        c.close()\n",
    "        #return buffer.getvalue()\n",
    "        return x\n",
    "\n",
    "def parse_file(filename):\n",
    "    with open(filename, 'r') as f:\n",
    "        z=f.readlines()\n",
    "        arr = np.array([elem[:-1].split(',') for elem in z])\n",
    "        d = {}\n",
    "        d[\"tem\"] = arr[:,0].astype(float)\n",
    "        d[\"hum\"] = arr[:,1].astype(float)\n",
    "        d[\"co2\"] = arr[:,2].astype(float)\n",
    "        d[\"dewpt\"] = arr[:,3].astype(float)\n",
    "        d[\"pm\"] = arr[:,4].astype(float)\n",
    "        ts = arr[:,5]\n",
    "        ts_mod = [time.strptime(tt, \"%Y-%m-%dT%H:%M:%S.000Z\") for tt in ts]\n",
    "        d[\"upd_ts\"] = [np.uint32(time.mktime(x)) for x in ts_mod]\n",
    "        d[\"tod\"] = np.array([x.tm_hour*60 + x.tm_min for x in ts_mod])#tod= time_of_day\n",
    "        d[\"dow\"] = np.array([x.tm_wday for x in ts_mod])               #day_of_week\n",
    "        d[\"voc\"] = arr[:,6].astype(float)\n",
    "        #return tem, hum, co2, dewpt, pm, upd_ts, tod, dow, voc\n",
    "        return d    \n",
    "\n",
    "#all_devs = json.loads(getBody(DEVLIST_URL))\n",
    "#dev_list = [dev[u'device'] for dev in all_devs]\n",
    "#name_list = [dev[u'name'] for dev in all_devs]\n",
    "json_list =  os.listdir(SRC_PATH)\n",
    "d_list = []\t#device list, with details.\n",
    "\n",
    "#jf--> json file\n",
    "for idx, jf in enumerate(json_list):\n",
    "\ttemp_list = []\n",
    "\thum_list =[]\n",
    "\tco2_list = []\n",
    "\tdewpt_list = []\n",
    "\tpm_list = []\n",
    "\tts_list = [] #timestamp\n",
    "\tvoc_list = []\n",
    "\tprint(jf)\n",
    "\tprint(\"Processing %d/%d...\" %(idx+1, len(json_list)))\n",
    "\tdev = jf.split('_')[0]\n",
    "\tname = jf.split('_')[1][:-5]\n",
    "\tprint(name)\n",
    "\tstart = time.time()\n",
    "\ttry:\n",
    "\t        with open(SRC_PATH+jf, 'r') as f:\n",
    "                        parser = ijson.parse(f)\n",
    "                        for prefix, event, value in parser:\n",
    "                                if prefix.endswith('temperature'):\n",
    "                                        temp_list.append(value*1.8/1000.0 + 32)\n",
    "                                elif prefix.endswith('humidity'):\n",
    "                                        hum_list.append(value/1000.0)\n",
    "                                elif prefix.endswith('co2'):\n",
    "                                        co2_list.append(value)\n",
    "                                elif prefix.endswith('dewpoint'):\n",
    "                                        dewpt_list.append(value)\n",
    "                                elif prefix.endswith('pm'):\n",
    "                                        pm_list.append(value)\n",
    "                                elif prefix.endswith('timestamp'):\n",
    "                                        ts_list.append(value)\n",
    "                                elif prefix.endswith('voc'):\n",
    "                                        voc_list.append(value)\n",
    "                        ## Saved as Temp | Hum | Co2 | Dewpt | pm | ts | VOC\n",
    "                        arr = np.vstack((temp_list, hum_list)) \n",
    "                        arr = np.vstack((arr, co2_list))\n",
    "                        arr = np.vstack((arr, dewpt_list))\n",
    "                        arr = np.vstack((arr, pm_list))\n",
    "                        arr = np.vstack((arr, ts_list))\n",
    "                        arr = np.vstack((arr, voc_list))\n",
    "                        arr = arr.T\n",
    "                        np.savetxt(DES_PATH + dev + '_' + name + '.txt', arr[::100,:], fmt = '%s', delimiter=',')\n",
    "\n",
    "\texcept Exception as e:\n",
    "\t\tprint(\"Error: \"+str(e))\n",
    "\t\tpass\n",
    "                \n",
    "\tprint(\"Processed & Saved in %d seconds\\n\" %(time.time()-start))\n",
    "print(\"Parse process Completed.\")"
   ]
  },
  {
   "cell_type": "code",
   "execution_count": 5,
   "metadata": {
    "collapsed": true
   },
   "outputs": [],
   "source": [
    "# Data Visualization Libraries\n",
    "%matplotlib inline\n",
    "\n",
    "import matplotlib as mpl\n",
    "#mpl.use('agg')\n",
    "mpl.rcParams['axes.unicode_minus']=False\n",
    "mpl.rcParams['text.usetex'] = False\n",
    "mpl.rcParams['text.latex.unicode']=False\n",
    "#mpl.rcParams['text.latex.preamble'] = [r'\\usepackage{amsmath}'] #for \\text command\n",
    "import matplotlib.pyplot as plt\n",
    "import matplotlib.cm as cm\n",
    "#%matplotlib inline\n",
    "import seaborn as sns\n",
    "\n",
    "\n",
    "## Numerical Analysis Libraries\n",
    "import numpy as np\n",
    "from numpy.fft import fft as fft\n",
    "from scipy.stats.stats import pearsonr\n",
    "import sklearn as sl\n",
    "import pandas as pd\n",
    "\n",
    "#import pyeemd\n",
    "#from pyeemd.utils import plot_imfs\n",
    "\n",
    "\n",
    "## Generic Python Libraries:\n",
    "import os\n",
    "import time\n",
    "from datetime import datetime as dt\n",
    "import decimal\n"
   ]
  },
  {
   "cell_type": "code",
   "execution_count": 6,
   "metadata": {},
   "outputs": [
    {
     "name": "stdout",
     "output_type": "stream",
     "text": [
      "['0xf8f005f0270d_.txt' '0xf8f005f066a3_Atelier Ten.txt'\n",
      " '0xf8f005f1c71a_Civic Hall Boffi.txt' '0xf8f005f1c71c_Studios Paris.txt'\n",
      " '0xf8f005f2f32e_CASE #3.txt' '0xf8f005f2f3f3_Civic Hall.txt'\n",
      " '0xf8f005f417ef_CASE #2.txt' '0xf8f005f41863_Simone Bedroom.txt'\n",
      " '0xf8f005f41877_Ju.txt' '0xf8f005f41961_CCS.txt'\n",
      " '0xf8f005f41991_CASE (Anna Dyson Office).txt']\n"
     ]
    }
   ],
   "source": [
    "# return a sorted copy of an array\n",
    "txt_list = np.sort(os.listdir('./DATA_DIR/')) \n",
    "sns.set(font=\"sans-serif\")\n",
    "\n",
    "print (txt_list)\n"
   ]
  },
  {
   "cell_type": "code",
   "execution_count": 7,
   "metadata": {
    "collapsed": true
   },
   "outputs": [],
   "source": [
    "def parse_file(filename):\n",
    "    with open(filename, 'r') as f:\n",
    "        z=f.readlines()\n",
    "        \n",
    "        #print \"f.readlines(): \\n\" + str(z)\n",
    "        \n",
    "        arr = np.array([elem[:-1].split(',') for elem in z])\n",
    "        \n",
    "        #print \"\\narr: \\n\"\n",
    "        #print arr\n",
    "\n",
    "        d = {}\n",
    "        try:\n",
    "            voc_list = arr[:,6].astype(float)\n",
    "        except:\n",
    "            arr = np.array([elem[:-1].split(',') for elem in z[:-1]])\n",
    "            voc_list = arr[:,6].astype(float)\n",
    "        low_thresh = 124\n",
    "        high_thresh = 1e6\n",
    "                \n",
    "        d[\"voc\"] = voc_list[(voc_list>low_thresh) & (voc_list<high_thresh)]\n",
    "        \n",
    "        #print \"\\nvoc_list length: \" + str(len(voc_list))\n",
    "        #print voc_list\n",
    "        \n",
    "        #print \"\\nd[voc] length: \" + str(len(d[\"voc\"]))\n",
    "        #print d[\"voc\"]\n",
    "        \n",
    "        d[\"tem\"] = arr[:,0].astype(float)[(voc_list>low_thresh) & (voc_list<high_thresh)]\n",
    "        d[\"hum\"] = arr[:,1].astype(float)[(voc_list>low_thresh) & (voc_list<high_thresh)]\n",
    "        d[\"co2\"] = arr[:,2].astype(float)[(voc_list>low_thresh) & (voc_list<high_thresh)]\n",
    "        d[\"dewpt\"] = arr[:,3].astype(float)[(voc_list>low_thresh) & (voc_list<high_thresh)]\n",
    "        \n",
    "        d[\"pm\"] = arr[:,4].astype(float)[(voc_list>low_thresh) & (voc_list<high_thresh)]\n",
    "        d[\"pm\"] = d[\"pm\"]*0.103 - 0.698 #in ug/m3\n",
    "        \n",
    "        ts = arr[:,5][(voc_list>low_thresh) & (voc_list<high_thresh)]\n",
    "        ts_mod = [time.strptime(tt, \"%Y-%m-%dT%H:%M:%S.000Z\") for tt in ts]\n",
    "        d[\"upd_ts\"] = [np.uint32(time.mktime(x)) for x in ts_mod]\n",
    "        d[\"tod\"] = np.array([x.tm_hour*60 + x.tm_min for x in ts_mod])#tod= time_of_day\n",
    "        d[\"dow\"] = np.array([x.tm_wday for x in ts_mod])               #day_of_week\n",
    "        d[\"time_date\"] = np.array([dt.utcfromtimestamp(tim).strftime(\"%Y-%m-%d\") for tim in d[\"upd_ts\"]])\n",
    "        \n",
    "        #print \"\\nd[tem] length: \" + str(len(d[\"tem\"]))\n",
    "        #print \n",
    "        #return tem, hum, co2, dewpt, pm, upd_ts, tod, dow, voc\n",
    "        return d\n",
    "        d[\"tem\"]\n",
    "        \n"
   ]
  },
  {
   "cell_type": "code",
   "execution_count": 8,
   "metadata": {},
   "outputs": [
    {
     "name": "stdout",
     "output_type": "stream",
     "text": [
      "[ 84.3026  82.121   82.9814 ...,  77.9918  78.1268  77.8712]\n",
      "[ 34.899  19.024  18.156 ...,  42.091  42.25   42.175]\n"
     ]
    }
   ],
   "source": [
    "d = parse_file(\"./DATA_DIR/\"+txt_list[10])\n",
    "print (d['tem']) \n",
    "print (d['hum']) \n"
   ]
  },
  {
   "cell_type": "code",
   "execution_count": 9,
   "metadata": {
    "collapsed": true
   },
   "outputs": [],
   "source": [
    "def cor_mat_print(d):\n",
    "    x = np.sort(d.keys())\n",
    "    \n",
    "    #print(d[x[0]])\n",
    "    #print(d[x[2]])\n",
    "    print (x)\n",
    "    \n",
    "    l = len(x)\n",
    "    cor_mat = np.zeros((l,l))\n",
    "    #print cor_mat\n",
    "    for i in range(0,l):\n",
    "        for j in range(0,l):\n",
    "            np.set_printoptions(suppress=True, precision=4)\n",
    "            #decimal.getcontext().prec=5\n",
    "            feat1 = d[x[i]]\n",
    "            feat2 = d[x[j]]\n",
    "            try:\n",
    "                cor_mat[i][j] = pearsonr(feat1, feat2)[0]\n",
    "            #print pearsonr(feat1, feat2)[0]\n",
    "            except:\n",
    "                cor_mat[i][j] = np.nan\n",
    "    #print x\n",
    "    #print cor_mat#.astype(np.uint32)#*1.0/np.sum(cor_mat.astype(np.float32))\n",
    "    return cor_mat, x\n"
   ]
  },
  {
   "cell_type": "code",
   "execution_count": 10,
   "metadata": {},
   "outputs": [
    {
     "ename": "AxisError",
     "evalue": "axis -1 is out of bounds for array of dimension 0",
     "output_type": "error",
     "traceback": [
      "\u001b[1;31m---------------------------------------------------------------------------\u001b[0m",
      "\u001b[1;31mAxisError\u001b[0m                                 Traceback (most recent call last)",
      "\u001b[1;32m<ipython-input-10-0c45c439a5a4>\u001b[0m in \u001b[0;36m<module>\u001b[1;34m()\u001b[0m\n\u001b[0;32m      1\u001b[0m \u001b[0md\u001b[0m \u001b[1;33m=\u001b[0m \u001b[0mparse_file\u001b[0m\u001b[1;33m(\u001b[0m\u001b[1;34m\"./DATA_DIR/\"\u001b[0m\u001b[1;33m+\u001b[0m\u001b[0mtxt_list\u001b[0m\u001b[1;33m[\u001b[0m\u001b[1;36m5\u001b[0m\u001b[1;33m]\u001b[0m\u001b[1;33m)\u001b[0m\u001b[1;33m\u001b[0m\u001b[0m\n\u001b[0;32m      2\u001b[0m \u001b[1;31m#print d\u001b[0m\u001b[1;33m\u001b[0m\u001b[1;33m\u001b[0m\u001b[0m\n\u001b[1;32m----> 3\u001b[1;33m \u001b[0mcor_mat_print\u001b[0m\u001b[1;33m(\u001b[0m\u001b[0md\u001b[0m\u001b[1;33m)\u001b[0m\u001b[1;33m\u001b[0m\u001b[0m\n\u001b[0m\u001b[0;32m      4\u001b[0m \u001b[1;33m\u001b[0m\u001b[0m\n",
      "\u001b[1;32m<ipython-input-9-e35a85bbc077>\u001b[0m in \u001b[0;36mcor_mat_print\u001b[1;34m(d)\u001b[0m\n\u001b[0;32m      1\u001b[0m \u001b[1;32mdef\u001b[0m \u001b[0mcor_mat_print\u001b[0m\u001b[1;33m(\u001b[0m\u001b[0md\u001b[0m\u001b[1;33m)\u001b[0m\u001b[1;33m:\u001b[0m\u001b[1;33m\u001b[0m\u001b[0m\n\u001b[1;32m----> 2\u001b[1;33m     \u001b[0mx\u001b[0m \u001b[1;33m=\u001b[0m \u001b[0mnp\u001b[0m\u001b[1;33m.\u001b[0m\u001b[0msort\u001b[0m\u001b[1;33m(\u001b[0m\u001b[0md\u001b[0m\u001b[1;33m.\u001b[0m\u001b[0mkeys\u001b[0m\u001b[1;33m(\u001b[0m\u001b[1;33m)\u001b[0m\u001b[1;33m)\u001b[0m\u001b[1;33m\u001b[0m\u001b[0m\n\u001b[0m\u001b[0;32m      3\u001b[0m \u001b[1;33m\u001b[0m\u001b[0m\n\u001b[0;32m      4\u001b[0m     \u001b[1;31m#print(d[x[0]])\u001b[0m\u001b[1;33m\u001b[0m\u001b[1;33m\u001b[0m\u001b[0m\n\u001b[0;32m      5\u001b[0m     \u001b[1;31m#print(d[x[2]])\u001b[0m\u001b[1;33m\u001b[0m\u001b[1;33m\u001b[0m\u001b[0m\n",
      "\u001b[1;32m~\\Anaconda3\\lib\\site-packages\\numpy\\core\\fromnumeric.py\u001b[0m in \u001b[0;36msort\u001b[1;34m(a, axis, kind, order)\u001b[0m\n\u001b[0;32m    820\u001b[0m     \u001b[1;32melse\u001b[0m\u001b[1;33m:\u001b[0m\u001b[1;33m\u001b[0m\u001b[0m\n\u001b[0;32m    821\u001b[0m         \u001b[0ma\u001b[0m \u001b[1;33m=\u001b[0m \u001b[0masanyarray\u001b[0m\u001b[1;33m(\u001b[0m\u001b[0ma\u001b[0m\u001b[1;33m)\u001b[0m\u001b[1;33m.\u001b[0m\u001b[0mcopy\u001b[0m\u001b[1;33m(\u001b[0m\u001b[0morder\u001b[0m\u001b[1;33m=\u001b[0m\u001b[1;34m\"K\"\u001b[0m\u001b[1;33m)\u001b[0m\u001b[1;33m\u001b[0m\u001b[0m\n\u001b[1;32m--> 822\u001b[1;33m     \u001b[0ma\u001b[0m\u001b[1;33m.\u001b[0m\u001b[0msort\u001b[0m\u001b[1;33m(\u001b[0m\u001b[0maxis\u001b[0m\u001b[1;33m=\u001b[0m\u001b[0maxis\u001b[0m\u001b[1;33m,\u001b[0m \u001b[0mkind\u001b[0m\u001b[1;33m=\u001b[0m\u001b[0mkind\u001b[0m\u001b[1;33m,\u001b[0m \u001b[0morder\u001b[0m\u001b[1;33m=\u001b[0m\u001b[0morder\u001b[0m\u001b[1;33m)\u001b[0m\u001b[1;33m\u001b[0m\u001b[0m\n\u001b[0m\u001b[0;32m    823\u001b[0m     \u001b[1;32mreturn\u001b[0m \u001b[0ma\u001b[0m\u001b[1;33m\u001b[0m\u001b[0m\n\u001b[0;32m    824\u001b[0m \u001b[1;33m\u001b[0m\u001b[0m\n",
      "\u001b[1;31mAxisError\u001b[0m: axis -1 is out of bounds for array of dimension 0"
     ]
    }
   ],
   "source": [
    "d = parse_file(\"./DATA_DIR/\"+txt_list[5])\n",
    "#print d\n",
    "cor_mat_print(d)\n",
    "          "
   ]
  },
  {
   "cell_type": "code",
   "execution_count": null,
   "metadata": {
    "collapsed": true
   },
   "outputs": [],
   "source": [
    "d = parse_file(\"./DATA_DIR/\"+txt_list[5])"
   ]
  },
  {
   "cell_type": "code",
   "execution_count": null,
   "metadata": {
    "collapsed": true
   },
   "outputs": [],
   "source": [
    "cor_mat_print(d)"
   ]
  },
  {
   "cell_type": "code",
   "execution_count": null,
   "metadata": {
    "collapsed": true
   },
   "outputs": [],
   "source": [
    "def cor_mat_print(d):\n",
    "    x = np.sort(list(d.keys()))\n",
    "    \n",
    "    #print(d[x[0]])\n",
    "    #print(d[x[2]])\n",
    "    print (x)\n",
    "    \n",
    "    l = len(x)\n",
    "    cor_mat = np.zeros((l,l))\n",
    "    #print cor_mat\n",
    "    for i in range(0,l):\n",
    "        for j in range(0,l):\n",
    "            np.set_printoptions(suppress=True, precision=4)\n",
    "            #decimal.getcontext().prec=5\n",
    "            feat1 = d[x[i]]\n",
    "            feat2 = d[x[j]]\n",
    "            try:\n",
    "                cor_mat[i][j] = pearsonr(feat1, feat2)[0]\n",
    "            #print pearsonr(feat1, feat2)[0]\n",
    "            except:\n",
    "                cor_mat[i][j] = np.nan\n",
    "    #print x\n",
    "    #print cor_mat#.astype(np.uint32)#*1.0/np.sum(cor_mat.astype(np.float32))\n",
    "    return cor_mat, x\n"
   ]
  },
  {
   "cell_type": "code",
   "execution_count": null,
   "metadata": {
    "collapsed": true
   },
   "outputs": [],
   "source": [
    "d = parse_file(\"./DATA_DIR/\"+txt_list[5])"
   ]
  },
  {
   "cell_type": "code",
   "execution_count": null,
   "metadata": {
    "collapsed": true
   },
   "outputs": [],
   "source": [
    "cor_mat_print(d)"
   ]
  },
  {
   "cell_type": "code",
   "execution_count": null,
   "metadata": {
    "collapsed": true
   },
   "outputs": [],
   "source": [
    "d.keys()"
   ]
  },
  {
   "cell_type": "code",
   "execution_count": null,
   "metadata": {
    "collapsed": true
   },
   "outputs": [],
   "source": [
    "c_list = []\n",
    "d_list = []\n",
    "for filename in txt_list:\n",
    "    #print filename\n",
    "    d = parse_file(\"./DATA_DIR/\"+filename)\n",
    "    d_list.append(d)\n",
    "    c,x  = cor_mat_print(d)\n",
    "    c_list.append(c)\n",
    "\n",
    "#print c_list[2]\n",
    "print (d_list[10])\n"
   ]
  },
  {
   "cell_type": "markdown",
   "metadata": {},
   "source": [
    "# Assignment-04 practice"
   ]
  },
  {
   "cell_type": "markdown",
   "metadata": {},
   "source": [
    "# Graph of avg_VOC"
   ]
  },
  {
   "cell_type": "code",
   "execution_count": null,
   "metadata": {
    "collapsed": true
   },
   "outputs": [],
   "source": [
    "d = parse_file(\"./DATA_DIR/\"+txt_list[0])"
   ]
  },
  {
   "cell_type": "code",
   "execution_count": null,
   "metadata": {
    "collapsed": true
   },
   "outputs": [],
   "source": [
    "df = pd.DataFrame({'my_dates':d['time_date'],'voc':d['voc']})\n",
    "df['my_dates'] = pd.to_datetime(df['my_dates'])\n",
    "df['day_of_week'] = df['my_dates'].dt.weekday_name\n",
    "tuesday=df.loc[df['day_of_week'] == 'Tuesday']\n",
    "np.average(tuesday['voc'])"
   ]
  },
  {
   "cell_type": "code",
   "execution_count": null,
   "metadata": {
    "collapsed": true
   },
   "outputs": [],
   "source": [
    "df = pd.DataFrame({'my_dates':d['time_date'],'voc':d['voc']})\n",
    "df"
   ]
  },
  {
   "cell_type": "code",
   "execution_count": null,
   "metadata": {
    "collapsed": true
   },
   "outputs": [],
   "source": [
    "df['my_dates'] = pd.to_datetime(df['my_dates'])\n",
    "df['my_dates']"
   ]
  },
  {
   "cell_type": "code",
   "execution_count": null,
   "metadata": {
    "collapsed": true
   },
   "outputs": [],
   "source": [
    "df['day_of_week'] = df['my_dates'].dt.weekday_name\n",
    "df['day_of_week']"
   ]
  },
  {
   "cell_type": "code",
   "execution_count": null,
   "metadata": {
    "collapsed": true
   },
   "outputs": [],
   "source": [
    "tuesday=df.loc[df['day_of_week'] == 'Tuesday']\n",
    "tuesday"
   ]
  },
  {
   "cell_type": "code",
   "execution_count": null,
   "metadata": {
    "collapsed": true
   },
   "outputs": [],
   "source": [
    "result=np.average(tuesday['voc'])\n",
    "result"
   ]
  },
  {
   "cell_type": "code",
   "execution_count": null,
   "metadata": {
    "collapsed": true
   },
   "outputs": [],
   "source": [
    "import plotly.plotly as py"
   ]
  },
  {
   "cell_type": "code",
   "execution_count": null,
   "metadata": {
    "collapsed": true
   },
   "outputs": [],
   "source": [
    "import plotly.graph_objs as go\n",
    "import numpy as np"
   ]
  },
  {
   "cell_type": "code",
   "execution_count": null,
   "metadata": {
    "collapsed": true
   },
   "outputs": [],
   "source": [
    "N = 100\n",
    "random_x = np.linspace(0, 1, N)\n",
    "random_y0 = np.random.randn(N)+5\n",
    "random_y1 = np.random.randn(N)\n",
    "random_y2 = np.random.randn(N)-5"
   ]
  },
  {
   "cell_type": "code",
   "execution_count": null,
   "metadata": {
    "collapsed": true
   },
   "outputs": [],
   "source": [
    "trace2 = go.Scatter(\n",
    "    x = ['s','m'],\n",
    "    y = [result,10],\n",
    "    mode = 'lines+markers',\n",
    "    name = 'lines+markers'\n",
    ")"
   ]
  },
  {
   "cell_type": "code",
   "execution_count": null,
   "metadata": {
    "collapsed": true
   },
   "outputs": [],
   "source": [
    "data = [trace2]"
   ]
  },
  {
   "cell_type": "code",
   "execution_count": null,
   "metadata": {
    "collapsed": true
   },
   "outputs": [],
   "source": [
    "py.iplot(data, filename='line-mode')"
   ]
  },
  {
   "cell_type": "code",
   "execution_count": null,
   "metadata": {
    "collapsed": true
   },
   "outputs": [],
   "source": [
    "trace1 = go.Scatter(\n",
    "    x=['s', 'm'],\n",
    "    y=[result,2],\n",
    "    name = 'Gaps', # Style name/legend entry with html tags\n",
    "    connectgaps=False\n",
    ")"
   ]
  },
  {
   "cell_type": "code",
   "execution_count": null,
   "metadata": {
    "collapsed": true
   },
   "outputs": [],
   "source": [
    "sunday=df.loc[df['day_of_week'] == 'Sunday']\n",
    "monday=df.loc[df['day_of_week'] == 'Monday']\n",
    "tuesday=df.loc[df['day_of_week'] == 'Tuesday']\n",
    "wednesday=df.loc[df['day_of_week'] == 'Wednesday']\n",
    "thuresday=df.loc[df['day_of_week'] == 'Thursday']\n",
    "friday=df.loc[df['day_of_week'] == 'Friday']\n",
    "saturday=df.loc[df['day_of_week'] == 'Saturday']\n",
    "sundayval=np.average(sunday['voc'])\n",
    "mondayval=np.average(monday['voc'])\n",
    "tuesdayval=np.average(tuesday['voc'])\n",
    "wednesdayval=np.average(wednesday['voc'])\n",
    "thuresdayval=np.average(thuresday['voc'])\n",
    "fridayval=np.average(friday['voc'])\n",
    "saturdayval=np.average(saturday['voc'])\n",
    "\n",
    "print(sundayval)\n",
    "print(mondayval)\n",
    "print(tuesdayval)\n",
    "print(wednesdayval)\n",
    "print(thuresdayval)\n",
    "print(fridayval)\n",
    "print(saturdayval)"
   ]
  },
  {
   "cell_type": "code",
   "execution_count": 24,
   "metadata": {},
   "outputs": [
    {
     "data": {
      "text/html": [
       "<iframe id=\"igraph\" scrolling=\"no\" style=\"border:none;\" seamless=\"seamless\" src=\"https://plot.ly/~prothomrobi/38.embed\" height=\"525px\" width=\"100%\"></iframe>"
      ],
      "text/plain": [
       "<plotly.tools.PlotlyDisplay object>"
      ]
     },
     "execution_count": 24,
     "metadata": {},
     "output_type": "execute_result"
    }
   ],
   "source": [
    "import plotly.plotly as py\n",
    "import plotly.graph_objs as go\n",
    "import numpy as np\n",
    "trace2 = go.Scatter(\n",
    "  x = ['Sunday','Monday', 'Tuesday', 'Wednesday', 'Thuresday', 'Friday', 'Saturday'],\n",
    "  y = [sundayval, mondayval, tuesdayval, wednesdayval, thuresdayval, fridayval, saturdayval],\n",
    "  mode = 'lines+markers',\n",
    "  name = 'lines+markers'\n",
    "   \n",
    ")\n",
    "data = [trace2]\n",
    "py.iplot(data, filename='line-mode')\n",
    "\n"
   ]
  },
  {
   "cell_type": "markdown",
   "metadata": {
    "collapsed": true
   },
   "source": [
    "# Graph avg_PM "
   ]
  },
  {
   "cell_type": "code",
   "execution_count": null,
   "metadata": {
    "collapsed": true
   },
   "outputs": [],
   "source": [
    "df = pd.DataFrame({'my_dates':d['time_date'],'PM':d['pm']})\n",
    "df"
   ]
  },
  {
   "cell_type": "code",
   "execution_count": null,
   "metadata": {
    "collapsed": true
   },
   "outputs": [],
   "source": [
    "df['my_dates'] = pd.to_datetime(df['my_dates'])\n",
    "df['my_dates']"
   ]
  },
  {
   "cell_type": "code",
   "execution_count": null,
   "metadata": {
    "collapsed": true
   },
   "outputs": [],
   "source": [
    "df['day_of_week'] = df['my_dates'].dt.weekday_name\n",
    "df['day_of_week']"
   ]
  },
  {
   "cell_type": "code",
   "execution_count": null,
   "metadata": {
    "collapsed": true
   },
   "outputs": [],
   "source": [
    "df = pd.DataFrame({'my_dates':d['time_date'],'PM':d['pm'],'days':df['day_of_week']})\n",
    "df"
   ]
  },
  {
   "cell_type": "code",
   "execution_count": null,
   "metadata": {
    "collapsed": true
   },
   "outputs": [],
   "source": [
    "result=np.average(df['PM'])\n",
    "result"
   ]
  },
  {
   "cell_type": "code",
   "execution_count": null,
   "metadata": {
    "collapsed": true
   },
   "outputs": [],
   "source": [
    "sunday=df.loc[df['days'] == 'Sunday']\n",
    "monday=df.loc[df['days'] == 'Monday']\n",
    "tuesday=df.loc[df['days'] == 'Tuesday']\n",
    "wednesday=df.loc[df['days'] == 'Wednesday']\n",
    "thuresday=df.loc[df['days'] == 'Thursday']\n",
    "friday=df.loc[df['days'] == 'Friday']\n",
    "saturday=df.loc[df['days'] == 'Saturday']\n",
    "sundayval=np.average(sunday['PM'])\n",
    "mondayval=np.average(monday['PM'])\n",
    "tuesdayval=np.average(tuesday['PM'])\n",
    "wednesdayval=np.average(wednesday['PM'])\n",
    "thuresdayval=np.average(thuresday['PM'])\n",
    "fridayval=np.average(friday['PM'])\n",
    "saturdayval=np.average(saturday['PM'])\n",
    "\n",
    "print(sundayval)\n",
    "print(mondayval)\n",
    "print(tuesdayval)\n",
    "print(wednesdayval)\n",
    "print(thuresdayval)\n",
    "print(fridayval)\n",
    "print(saturdayval)"
   ]
  },
  {
   "cell_type": "code",
   "execution_count": null,
   "metadata": {
    "collapsed": true
   },
   "outputs": [],
   "source": [
    "import plotly.plotly as py\n",
    "import plotly.graph_objs as go\n",
    "import numpy as np\n",
    "trace3 = go.Scatter(\n",
    "  x = ['Sunday','Monday', 'Tuesday', 'Wednesday', 'Thuresday', 'Friday', 'Saturday'],\n",
    "  y = [sundayval, mondayval, tuesdayval, wednesdayval, thuresdayval, fridayval, saturdayval],\n",
    "  mode = 'lines+markers',\n",
    "  name = 'lines+markers'\n",
    "   \n",
    ")\n",
    "data = [trace3]\n",
    "py.iplot(data, filename='line-mode')"
   ]
  },
  {
   "cell_type": "code",
   "execution_count": null,
   "metadata": {
    "collapsed": true
   },
   "outputs": [],
   "source": [
    "from plotly import tools\n",
    "import plotly.plotly as py\n",
    "import plotly.graph_objs as go\n",
    "\n",
    "fig = tools.make_subplots(rows=1, cols=2)\n",
    "\n",
    "fig.append_trace(trace2, 1, 1)\n",
    "fig.append_trace(trace3, 1, 2)\n",
    "\n",
    "fig['layout'].update(height=400, width=1100, title='avg_VOC array & avg_PM array')\n",
    "py.iplot(fig, filename='simple-subplot')"
   ]
  },
  {
   "cell_type": "code",
   "execution_count": 18,
   "metadata": {},
   "outputs": [
    {
     "data": {
      "text/html": [
       "<iframe id=\"igraph\" scrolling=\"no\" style=\"border:none;\" seamless=\"seamless\" src=\"https://plot.ly/~prothomrobi/44.embed\" height=\"525px\" width=\"100%\"></iframe>"
      ],
      "text/plain": [
       "<plotly.tools.PlotlyDisplay object>"
      ]
     },
     "execution_count": 18,
     "metadata": {},
     "output_type": "execute_result"
    }
   ],
   "source": [
    "import plotly.plotly as py\n",
    "import plotly.graph_objs as go\n",
    "\n",
    "trace0 = go.Scatter(\n",
    "    x=[2, 3.5, 6],\n",
    "    y=[1, 1.5, 1],\n",
    "    text=['Vertical Line', 'Horizontal Dashed Line', 'Diagonal dotted Line'],\n",
    "    mode='text',\n",
    ")\n",
    "data = [trace0]\n",
    "layout = {\n",
    "    'xaxis': {\n",
    "        'range': [0, 7]\n",
    "    },\n",
    "    'yaxis': {\n",
    "        'range': [0, 2.5]\n",
    "    },\n",
    "    'shapes': [\n",
    "        # Line Vertical\n",
    "        \n",
    "        # Line Horizontal\n",
    "        {\n",
    "            'type': 'line',\n",
    "            'x0': 0,\n",
    "            'y0': 200,\n",
    "            'x1': 0,\n",
    "            'y1': 200,\n",
    "            'line': {\n",
    "                'color': 'rgb(50, 171, 96)',\n",
    "                'width': 4,\n",
    "                'dash': 'dashdot',\n",
    "            },\n",
    "        },\n",
    "        # Line Diagonal\n",
    "        \n",
    "    ]\n",
    "}\n",
    "\n",
    "fig = {\n",
    "    'data': data,\n",
    "    'layout': layout,\n",
    "}\n",
    "\n",
    "py.iplot(fig, filename='shapes-lines')"
   ]
  },
  {
   "cell_type": "markdown",
   "metadata": {},
   "source": [
    "# Final assignmnt-04"
   ]
  },
  {
   "cell_type": "code",
   "execution_count": 40,
   "metadata": {},
   "outputs": [
    {
     "name": "stdout",
     "output_type": "stream",
     "text": [
      "This is the format of your plot grid:\n",
      "[ (1,1) x1,y1 ]  [ (1,2) x2,y2 ]\n",
      "\n"
     ]
    },
    {
     "data": {
      "text/html": [
       "<iframe id=\"igraph\" scrolling=\"no\" style=\"border:none;\" seamless=\"seamless\" src=\"https://plot.ly/~prothomrobi/40.embed\" height=\"400px\" width=\"1100px\"></iframe>"
      ],
      "text/plain": [
       "<plotly.tools.PlotlyDisplay object>"
      ]
     },
     "execution_count": 40,
     "metadata": {},
     "output_type": "execute_result"
    }
   ],
   "source": [
    "from plotly import tools\n",
    "import plotly.plotly as py\n",
    "import plotly.graph_objs as go\n",
    "import numpy as np\n",
    "\n",
    "d = parse_file(\"./DATA_DIR/\"+txt_list[0])\n",
    "df = pd.DataFrame({'my_dates':d['time_date'],'PM':d['pm'],'voc':d['voc']})\n",
    "df['my_dates'] = pd.to_datetime(df['my_dates'])\n",
    "df['days'] = df['my_dates'].dt.weekday_name\n",
    "\n",
    "\n",
    "sunday=df.loc[df['days'] == 'Sunday']\n",
    "monday=df.loc[df['days'] == 'Monday']\n",
    "tuesday=df.loc[df['days'] == 'Tuesday']\n",
    "wednesday=df.loc[df['days'] == 'Wednesday']\n",
    "thuresday=df.loc[df['days'] == 'Thursday']\n",
    "friday=df.loc[df['days'] == 'Friday']\n",
    "saturday=df.loc[df['days'] == 'Saturday']\n",
    "\n",
    "sundayval=np.average(sunday['PM'])\n",
    "mondayval=np.average(monday['PM'])\n",
    "tuesdayval=np.average(tuesday['PM'])\n",
    "wednesdayval=np.average(wednesday['PM'])\n",
    "thuresdayval=np.average(thuresday['PM'])\n",
    "fridayval=np.average(friday['PM'])\n",
    "saturdayval=np.average(saturday['PM'])\n",
    "\n",
    "sundayval1=np.average(sunday['voc'])\n",
    "mondayval1=np.average(monday['voc'])\n",
    "tuesdayval1=np.average(tuesday['voc'])\n",
    "wednesdayval1=np.average(wednesday['voc'])\n",
    "thuresdayval1=np.average(thuresday['voc'])\n",
    "fridayval1=np.average(friday['voc'])\n",
    "saturdayval1=np.average(saturday['voc'])\n",
    "\n",
    "trace1 = go.Scatter(\n",
    "  x = ['Sunday','Monday', 'Tuesday', 'Wednesday', 'Thuresday', 'Friday', 'Saturday'],\n",
    "  y = [sundayval1, mondayval1, tuesdayval1, wednesdayval1, thuresdayval1, fridayval1, saturdayval1],\n",
    "  mode = 'lines+markers',\n",
    "  name = 'avg_VOC array'\n",
    "   \n",
    ")\n",
    "data = [trace1]\n",
    "\n",
    "\n",
    "trace2 = go.Scatter(\n",
    "  x = ['Sunday','Monday', 'Tuesday', 'Wednesday', 'Thuresday', 'Friday', 'Saturday'],\n",
    "  y = [sundayval, mondayval, tuesdayval, wednesdayval, thuresdayval, fridayval, saturdayval],\n",
    "  mode = 'lines+markers',\n",
    "  name = 'avg_PM array'\n",
    "   \n",
    ")\n",
    "data = [trace2]\n",
    "\n",
    "tracethreshold = go.Scatter(\n",
    "  x = ['Sunday','Monday', 'Tuesday', 'Wednesday', 'Thuresday', 'Friday', 'Saturday'],\n",
    "  y =  [200, 200, 200, 200, 200, 200, 200],\n",
    "  mode = 'lines+markers',\n",
    "  name = 'voc_threshold',\n",
    "     line = dict(\n",
    "       color = ('rgb(205, 12, 24)'),\n",
    "       width = 4,\n",
    "       dash = 'dash') # dash options include 'dash', 'dot', and 'dashdot'\n",
    ")\n",
    "data = [tracethreshold]\n",
    "\n",
    "fig = tools.make_subplots(rows=1, cols=2)\n",
    "\n",
    "\n",
    "fig.append_trace(tracethreshold, 1, 2)\n",
    "fig.append_trace(trace2, 1, 1)\n",
    "fig.append_trace(trace1, 1, 2)\n",
    "\n",
    "\n",
    "fig['layout'].update(height=400, width=1100, title='avg_VOC array & avg_PM array')\n",
    "\n",
    "\n",
    "py.iplot(fig, filename='simple-subplot')\n"
   ]
  },
  {
   "cell_type": "code",
   "execution_count": null,
   "metadata": {
    "collapsed": true
   },
   "outputs": [],
   "source": [
    "\n"
   ]
  },
  {
   "cell_type": "code",
   "execution_count": 42,
   "metadata": {},
   "outputs": [
    {
     "name": "stdout",
     "output_type": "stream",
     "text": [
      "This is the format of your plot grid:\n",
      "[ (1,1) x1,y1 ]  [ (1,2) x2,y2 ]\n",
      "\n"
     ]
    },
    {
     "data": {
      "text/html": [
       "<iframe id=\"igraph\" scrolling=\"no\" style=\"border:none;\" seamless=\"seamless\" src=\"https://plot.ly/~prothomrobi/40.embed\" height=\"400px\" width=\"1100px\"></iframe>"
      ],
      "text/plain": [
       "<plotly.tools.PlotlyDisplay object>"
      ]
     },
     "execution_count": 42,
     "metadata": {},
     "output_type": "execute_result"
    }
   ],
   "source": [
    "from plotly import tools\n",
    "import plotly.plotly as py\n",
    "import plotly.graph_objs as go\n",
    "import numpy as np\n",
    "\n",
    "d = parse_file(\"./DATA_DIR/\"+txt_list[1])\n",
    "df = pd.DataFrame({'my_dates':d['time_date'],'PM':d['pm'],'voc':d['voc']})\n",
    "df['my_dates'] = pd.to_datetime(df['my_dates'])\n",
    "df['days'] = df['my_dates'].dt.weekday_name\n",
    "\n",
    "\n",
    "sunday=df.loc[df['days'] == 'Sunday']\n",
    "monday=df.loc[df['days'] == 'Monday']\n",
    "tuesday=df.loc[df['days'] == 'Tuesday']\n",
    "wednesday=df.loc[df['days'] == 'Wednesday']\n",
    "thuresday=df.loc[df['days'] == 'Thursday']\n",
    "friday=df.loc[df['days'] == 'Friday']\n",
    "saturday=df.loc[df['days'] == 'Saturday']\n",
    "\n",
    "sundayval=np.average(sunday['PM'])\n",
    "mondayval=np.average(monday['PM'])\n",
    "tuesdayval=np.average(tuesday['PM'])\n",
    "wednesdayval=np.average(wednesday['PM'])\n",
    "thuresdayval=np.average(thuresday['PM'])\n",
    "fridayval=np.average(friday['PM'])\n",
    "saturdayval=np.average(saturday['PM'])\n",
    "\n",
    "sundayval1=np.average(sunday['voc'])\n",
    "mondayval1=np.average(monday['voc'])\n",
    "tuesdayval1=np.average(tuesday['voc'])\n",
    "wednesdayval1=np.average(wednesday['voc'])\n",
    "thuresdayval1=np.average(thuresday['voc'])\n",
    "fridayval1=np.average(friday['voc'])\n",
    "saturdayval1=np.average(saturday['voc'])\n",
    "\n",
    "trace3 = go.Scatter(\n",
    "  x = ['Sunday','Monday', 'Tuesday', 'Wednesday', 'Thuresday', 'Friday', 'Saturday'],\n",
    "  y = [sundayval1, mondayval1, tuesdayval1, wednesdayval1, thuresdayval1, fridayval1, saturdayval1],\n",
    "  mode = 'lines+markers',\n",
    "  name = 'avg_VOC array'\n",
    "   \n",
    ")\n",
    "data = [trace3]\n",
    "\n",
    "\n",
    "trace4 = go.Scatter(\n",
    "  x = ['Sunday','Monday', 'Tuesday', 'Wednesday', 'Thuresday', 'Friday', 'Saturday'],\n",
    "  y = [sundayval, mondayval, tuesdayval, wednesdayval, thuresdayval, fridayval, saturdayval],\n",
    "  mode = 'lines+markers',\n",
    "  name = 'avg_PM array'\n",
    "   \n",
    ")\n",
    "data = [trace4]\n",
    "\n",
    "tracethreshold = go.Scatter(\n",
    "  x = ['Sunday','Monday', 'Tuesday', 'Wednesday', 'Thuresday', 'Friday', 'Saturday'],\n",
    "  y =  [200, 200, 200, 200, 200, 200, 200],\n",
    "  mode = 'lines+markers',\n",
    "  name = 'voc_threshold',\n",
    "     line = dict(\n",
    "       color = ('rgb(205, 12, 24)'),\n",
    "       width = 4,\n",
    "       dash = 'dash') # dash options include 'dash', 'dot', and 'dashdot'\n",
    ")\n",
    "data = [tracethreshold]\n",
    "\n",
    "fig = tools.make_subplots(rows=1, cols=2)\n",
    "\n",
    "\n",
    "fig.append_trace(tracethreshold, 1, 2)\n",
    "fig.append_trace(trace4, 1, 1)\n",
    "fig.append_trace(trace3, 1, 2)\n",
    "\n",
    "\n",
    "fig['layout'].update(height=400, width=1100, title='avg_VOC array & avg_PM array')\n",
    "\n",
    "\n",
    "py.iplot(fig, filename='simple-subplot')\n"
   ]
  },
  {
   "cell_type": "code",
   "execution_count": 43,
   "metadata": {},
   "outputs": [
    {
     "name": "stdout",
     "output_type": "stream",
     "text": [
      "This is the format of your plot grid:\n",
      "[ (1,1) x1,y1 ]  [ (1,2) x2,y2 ]\n",
      "\n"
     ]
    },
    {
     "data": {
      "text/html": [
       "<iframe id=\"igraph\" scrolling=\"no\" style=\"border:none;\" seamless=\"seamless\" src=\"https://plot.ly/~prothomrobi/40.embed\" height=\"400px\" width=\"1100px\"></iframe>"
      ],
      "text/plain": [
       "<plotly.tools.PlotlyDisplay object>"
      ]
     },
     "execution_count": 43,
     "metadata": {},
     "output_type": "execute_result"
    }
   ],
   "source": [
    "from plotly import tools\n",
    "import plotly.plotly as py\n",
    "import plotly.graph_objs as go\n",
    "import numpy as np\n",
    "\n",
    "d = parse_file(\"./DATA_DIR/\"+txt_list[2])\n",
    "df = pd.DataFrame({'my_dates':d['time_date'],'PM':d['pm'],'voc':d['voc']})\n",
    "df['my_dates'] = pd.to_datetime(df['my_dates'])\n",
    "df['days'] = df['my_dates'].dt.weekday_name\n",
    "\n",
    "\n",
    "sunday=df.loc[df['days'] == 'Sunday']\n",
    "monday=df.loc[df['days'] == 'Monday']\n",
    "tuesday=df.loc[df['days'] == 'Tuesday']\n",
    "wednesday=df.loc[df['days'] == 'Wednesday']\n",
    "thuresday=df.loc[df['days'] == 'Thursday']\n",
    "friday=df.loc[df['days'] == 'Friday']\n",
    "saturday=df.loc[df['days'] == 'Saturday']\n",
    "\n",
    "sundayval=np.average(sunday['PM'])\n",
    "mondayval=np.average(monday['PM'])\n",
    "tuesdayval=np.average(tuesday['PM'])\n",
    "wednesdayval=np.average(wednesday['PM'])\n",
    "thuresdayval=np.average(thuresday['PM'])\n",
    "fridayval=np.average(friday['PM'])\n",
    "saturdayval=np.average(saturday['PM'])\n",
    "\n",
    "sundayval1=np.average(sunday['voc'])\n",
    "mondayval1=np.average(monday['voc'])\n",
    "tuesdayval1=np.average(tuesday['voc'])\n",
    "wednesdayval1=np.average(wednesday['voc'])\n",
    "thuresdayval1=np.average(thuresday['voc'])\n",
    "fridayval1=np.average(friday['voc'])\n",
    "saturdayval1=np.average(saturday['voc'])\n",
    "\n",
    "trace5 = go.Scatter(\n",
    "  x = ['Sunday','Monday', 'Tuesday', 'Wednesday', 'Thuresday', 'Friday', 'Saturday'],\n",
    "  y = [sundayval1, mondayval1, tuesdayval1, wednesdayval1, thuresdayval1, fridayval1, saturdayval1],\n",
    "  mode = 'lines+markers',\n",
    "  name = 'avg_VOC array'\n",
    "   \n",
    ")\n",
    "data = [trace5]\n",
    "\n",
    "\n",
    "trace6 = go.Scatter(\n",
    "  x = ['Sunday','Monday', 'Tuesday', 'Wednesday', 'Thuresday', 'Friday', 'Saturday'],\n",
    "  y = [sundayval, mondayval, tuesdayval, wednesdayval, thuresdayval, fridayval, saturdayval],\n",
    "  mode = 'lines+markers',\n",
    "  name = 'avg_PM array'\n",
    "   \n",
    ")\n",
    "data = [trace6]\n",
    "\n",
    "tracethreshold = go.Scatter(\n",
    "  x = ['Sunday','Monday', 'Tuesday', 'Wednesday', 'Thuresday', 'Friday', 'Saturday'],\n",
    "  y =  [200, 200, 200, 200, 200, 200, 200],\n",
    "  mode = 'lines+markers',\n",
    "  name = 'voc_threshold',\n",
    "     line = dict(\n",
    "       color = ('rgb(205, 12, 24)'),\n",
    "       width = 4,\n",
    "       dash = 'dash') # dash options include 'dash', 'dot', and 'dashdot'\n",
    ")\n",
    "data = [tracethreshold]\n",
    "\n",
    "fig = tools.make_subplots(rows=1, cols=2)\n",
    "\n",
    "\n",
    "fig.append_trace(tracethreshold, 1, 2)\n",
    "fig.append_trace(trace6, 1, 1)\n",
    "fig.append_trace(trace5, 1, 2)\n",
    "\n",
    "\n",
    "fig['layout'].update(height=400, width=1100, title='avg_VOC array & avg_PM array')\n",
    "\n",
    "\n",
    "py.iplot(fig, filename='simple-subplot')\n"
   ]
  },
  {
   "cell_type": "code",
   "execution_count": 49,
   "metadata": {},
   "outputs": [
    {
     "name": "stdout",
     "output_type": "stream",
     "text": [
      "This is the format of your plot grid:\n",
      "[ (1,1) x1,y1 ]  [ (1,2) x2,y2 ]\n",
      "[ (2,1) x3,y3 ]  [ (2,2) x4,y4 ]\n",
      "\n"
     ]
    },
    {
     "data": {
      "text/html": [
       "<iframe id=\"igraph\" scrolling=\"no\" style=\"border:none;\" seamless=\"seamless\" src=\"https://plot.ly/~prothomrobi/40.embed\" height=\"800px\" width=\"1100px\"></iframe>"
      ],
      "text/plain": [
       "<plotly.tools.PlotlyDisplay object>"
      ]
     },
     "execution_count": 49,
     "metadata": {},
     "output_type": "execute_result"
    }
   ],
   "source": [
    "fig = tools.make_subplots(rows=2, cols=2)\n",
    "\n",
    "fig.append_trace(tracethreshold, 1, 2)\n",
    "fig.append_trace(tracethreshold, 2, 2)\n",
    "fig.append_trace(trace6, 1, 1)\n",
    "fig.append_trace(trace5, 1, 2)\n",
    "fig.append_trace(trace6, 2, 1)\n",
    "fig.append_trace(trace5, 2, 2)\n",
    "\n",
    "fig['layout'].update(height=800, width=1100, title='avg_VOC array & avg_PM array')\n",
    "\n",
    "\n",
    "py.iplot(fig, filename='simple-subplot')"
   ]
  },
  {
   "cell_type": "code",
   "execution_count": null,
   "metadata": {
    "collapsed": true
   },
   "outputs": [],
   "source": []
  }
 ],
 "metadata": {
  "kernelspec": {
   "display_name": "Python 3",
   "language": "python",
   "name": "python3"
  },
  "language_info": {
   "codemirror_mode": {
    "name": "ipython",
    "version": 3
   },
   "file_extension": ".py",
   "mimetype": "text/x-python",
   "name": "python",
   "nbconvert_exporter": "python",
   "pygments_lexer": "ipython3",
   "version": "3.6.3"
  }
 },
 "nbformat": 4,
 "nbformat_minor": 2
}
